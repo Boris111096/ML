{
 "cells": [
  {
   "cell_type": "markdown",
   "metadata": {},
   "source": [
    "# Задание по теме «Коллаборативная фильтрация»"
   ]
  },
  {
   "cell_type": "code",
   "execution_count": 1,
   "metadata": {},
   "outputs": [
    {
     "name": "stdout",
     "output_type": "stream",
     "text": [
      "Evaluating RMSE, MAE of algorithm SVD on 5 split(s).\n",
      "\n",
      "                  Fold 1  Fold 2  Fold 3  Fold 4  Fold 5  Mean    Std     \n",
      "RMSE (testset)    0.8711  0.8746  0.8728  0.8750  0.8756  0.8738  0.0017  \n",
      "MAE (testset)     0.6843  0.6863  0.6856  0.6878  0.6874  0.6863  0.0013  \n",
      "Fit time          81.01   118.48  84.30   63.34   65.29   82.48   19.81   \n",
      "Test time         4.33    7.50    2.95    3.24    2.92    4.19    1.73    \n"
     ]
    },
    {
     "data": {
      "text/plain": [
       "{'test_rmse': array([0.87106638, 0.87462873, 0.87277113, 0.87504843, 0.87555605]),\n",
       " 'test_mae': array([0.68425156, 0.68629143, 0.68557356, 0.68776649, 0.68742472]),\n",
       " 'fit_time': (81.00793266296387,\n",
       "  118.47654438018799,\n",
       "  84.29610109329224,\n",
       "  63.34324049949646,\n",
       "  65.29443049430847),\n",
       " 'test_time': (4.328202486038208,\n",
       "  7.498513698577881,\n",
       "  2.9450128078460693,\n",
       "  3.2388157844543457,\n",
       "  2.924844741821289)}"
      ]
     },
     "execution_count": 1,
     "metadata": {},
     "output_type": "execute_result"
    }
   ],
   "source": [
    "from surprise import SVD\n",
    "from surprise import accuracy\n",
    "from surprise import Dataset\n",
    "from surprise import Reader\n",
    "from surprise.model_selection import train_test_split\n",
    "from surprise.model_selection import cross_validate\n",
    "import pandas as pd\n",
    "\n",
    "movies = pd.read_fwf('movies.dat').T.reset_index().T.reset_index(drop=True).iloc[:,0].str.split('::',expand=True)\n",
    "ratings = pd.read_fwf('ratings.dat').T.reset_index().T.reset_index(drop=True).iloc[:,0].str.split('::',expand=True)\n",
    "\n",
    "movies.columns = ['movieId','title','genres']\n",
    "ratings.columns = ['userId','movieId','rating','timestamp']\n",
    "\n",
    "movies_with_ratings = movies.join(ratings.set_index('movieId'), on='movieId').reset_index(drop=True)\n",
    "movies_with_ratings.dropna(inplace=True)\n",
    "\n",
    "dataset = pd.DataFrame({\n",
    "    'uid': movies_with_ratings.userId,\n",
    "    'iid': movies_with_ratings.title,\n",
    "    'rating': movies_with_ratings.rating\n",
    "})\n",
    "\n",
    "reader = Reader(rating_scale=(0.5, 5.0))\n",
    "data = Dataset.load_from_df(dataset, reader)\n",
    "\n",
    "trainset, testset = train_test_split(data, test_size=.25)\n",
    "\n",
    "algo = SVD()\n",
    "cross_validate(algo, data, measures=['RMSE', 'MAE'], cv=5, verbose=True)"
   ]
  },
  {
   "cell_type": "code",
   "execution_count": null,
   "metadata": {},
   "outputs": [],
   "source": []
  },
  {
   "cell_type": "markdown",
   "metadata": {},
   "source": [
    "Предыдущий вариант:"
   ]
  },
  {
   "cell_type": "code",
   "execution_count": 27,
   "metadata": {},
   "outputs": [
    {
     "name": "stdout",
     "output_type": "stream",
     "text": [
      "RMSE: 0.8790\n"
     ]
    },
    {
     "data": {
      "text/plain": [
       "0.878970137835515"
      ]
     },
     "execution_count": 27,
     "metadata": {},
     "output_type": "execute_result"
    }
   ],
   "source": [
    "from surprise import SVD\n",
    "from surprise import accuracy\n",
    "from surprise import Dataset\n",
    "from surprise import Reader\n",
    "from surprise.model_selection import train_test_split\n",
    "from surprise.model_selection import cross_validate\n",
    "import pandas as pd\n",
    "\n",
    "movies = pd.read_fwf('movies.dat').T.reset_index().T.reset_index(drop=True).iloc[:,0].str.split('::',expand=True)\n",
    "ratings = pd.read_fwf('ratings.dat').T.reset_index().T.reset_index(drop=True).iloc[:,0].str.split('::',expand=True)\n",
    "\n",
    "movies.columns = ['movieId','title','genres']\n",
    "ratings.columns = ['userId','movieId','rating','timestamp']\n",
    "\n",
    "movies_with_ratings = movies.join(ratings.set_index('movieId'), on='movieId').reset_index(drop=True)\n",
    "movies_with_ratings.dropna(inplace=True)\n",
    "\n",
    "dataset = pd.DataFrame({\n",
    "    'uid': movies_with_ratings.userId,\n",
    "    'iid': movies_with_ratings.title,\n",
    "    'rating': movies_with_ratings.rating\n",
    "})\n",
    "\n",
    "reader = Reader(rating_scale=(0.5, 5.0))\n",
    "data = Dataset.load_from_df(dataset, reader)\n",
    "\n",
    "trainset, testset = train_test_split(data, test_size=.25)\n",
    "\n",
    "algo = SVD()\n",
    "\n",
    "algo.fit(trainset)\n",
    "predictions = algo.test(testset)\n",
    "\n",
    "accuracy.rmse(predictions)"
   ]
  },
  {
   "cell_type": "code",
   "execution_count": null,
   "metadata": {},
   "outputs": [],
   "source": []
  },
  {
   "cell_type": "code",
   "execution_count": null,
   "metadata": {},
   "outputs": [],
   "source": []
  }
 ],
 "metadata": {
  "kernelspec": {
   "display_name": "Python 3",
   "language": "python",
   "name": "python3"
  },
  "language_info": {
   "codemirror_mode": {
    "name": "ipython",
    "version": 3
   },
   "file_extension": ".py",
   "mimetype": "text/x-python",
   "name": "python",
   "nbconvert_exporter": "python",
   "pygments_lexer": "ipython3",
   "version": "3.8.8"
  }
 },
 "nbformat": 4,
 "nbformat_minor": 4
}
