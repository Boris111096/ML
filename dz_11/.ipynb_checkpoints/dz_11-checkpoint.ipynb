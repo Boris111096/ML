{
 "cells": [
  {
   "cell_type": "markdown",
   "id": "determined-static",
   "metadata": {},
   "source": [
    "# Домашняя работа\n",
    "Взять boston house-prices datase (sklearn.datasets.load_boston). Возмите 7 любых  регрессоров (попробовать разные алгоритмы, поподбирать параметры, вывести итоговое качество)."
   ]
  },
  {
   "cell_type": "code",
   "execution_count": 1,
   "id": "blank-magnet",
   "metadata": {},
   "outputs": [],
   "source": [
    "import pandas as pd\n",
    "pd.set_option('display.max_columns', None)\n",
    "import numpy as np\n",
    "import matplotlib.pyplot as plt\n",
    "from matplotlib.colors import from_levels_and_colors\n",
    "%matplotlib inline\n",
    "%config InlineBackend.figure_format = 'retina'\n",
    "from pylab import rcParams\n",
    "rcParams['figure.figsize'] = (12, 9)\n",
    "from scipy.cluster.hierarchy import dendrogram\n",
    "\n",
    "from sklearn.metrics import adjusted_rand_score, silhouette_score, r2_score\n",
    "from sklearn.preprocessing import StandardScaler\n",
    "from sklearn.linear_model import LinearRegression, Ridge, SGDRegressor, ElasticNet, Lars, Lasso, OrthogonalMatchingPursuit\n",
    "from sklearn.model_selection import train_test_split, GridSearchCV, RandomizedSearchCV\n",
    "from sklearn.svm import LinearSVR\n",
    "from scipy.stats import uniform    "
   ]
  },
  {
   "cell_type": "code",
   "execution_count": 2,
   "id": "third-paris",
   "metadata": {},
   "outputs": [],
   "source": [
    "from sklearn.datasets import load_boston\n",
    "X, y = load_boston(return_X_y=True)"
   ]
  },
  {
   "cell_type": "code",
   "execution_count": 4,
   "id": "generous-kennedy",
   "metadata": {},
   "outputs": [
    {
     "name": "stderr",
     "output_type": "stream",
     "text": [
      "D:\\Programs\\Anaconda\\lib\\site-packages\\sklearn\\model_selection\\_search.py:285: UserWarning: The total space of parameters 2 is smaller than n_iter=10. Running 2 iterations. For exhaustive searches, use GridSearchCV.\n",
      "  warnings.warn(\n",
      "D:\\Programs\\Anaconda\\lib\\site-packages\\sklearn\\model_selection\\_search.py:285: UserWarning: The total space of parameters 2 is smaller than n_iter=10. Running 2 iterations. For exhaustive searches, use GridSearchCV.\n",
      "  warnings.warn(\n",
      "D:\\Programs\\Anaconda\\lib\\site-packages\\sklearn\\model_selection\\_search.py:285: UserWarning: The total space of parameters 2 is smaller than n_iter=10. Running 2 iterations. For exhaustive searches, use GridSearchCV.\n",
      "  warnings.warn(\n"
     ]
    }
   ],
   "source": [
    "models=[\n",
    "      {'name':'LinearRegression',\"model\":LinearRegression(), 'params':{'normalize': [True,False], 'n_jobs':[-1]}},  \n",
    "      {'name':'Ridge',\"model\": Ridge()  , 'params':{'alpha': uniform(loc=0, scale=4), 'solver':['svd', 'cholesky', 'lsqr', 'sparse_cg', 'sag', 'saga']}},\n",
    "      {'name':'SGDRegressor',\"model\": SGDRegressor(), 'params':{'alpha': uniform(loc=0, scale=4), 'loss':['squared_loss','huber', 'epsilon_insensitive', 'squared_epsilon_insensitive'], 'penalty':['l2', 'l1', 'elasticnet']}},\n",
    "      {'name':'ElasticNet',\"model\": ElasticNet(), 'params':{'alpha': uniform(loc=0, scale=4), 'normalize': [True,False]}},\n",
    "      {'name':'Lars',\"model\": Lars(), 'params':{'normalize': [True,False]}},\n",
    "      {'name':'Lasso',\"model\": Lasso(), 'params':{'alpha': uniform(loc=0, scale=4), 'normalize': [True,False]}},\n",
    "      {'name':'OrthogonalMatchingPursuit',\"model\": OrthogonalMatchingPursuit(), 'params':{'normalize': [True,False]}}\n",
    "\n",
    "]\n",
    "\n",
    "X_train, X_test, y_train, y_test = train_test_split(X, y, test_size=0.25, random_state=42)\n",
    "\n",
    "train=[]\n",
    "\n",
    "for v in  models:\n",
    "    train.append((v['name'], RandomizedSearchCV(v['model'], v['params'], cv=10, scoring='r2').fit(X_train, y_train)))"
   ]
  },
  {
   "cell_type": "code",
   "execution_count": 5,
   "id": "nasty-symbol",
   "metadata": {},
   "outputs": [
    {
     "name": "stdout",
     "output_type": "stream",
     "text": [
      "LinearRegression train_score 0.716013319664838 {'normalize': False, 'n_jobs': -1}\n",
      "LinearRegression test_score 0.6844267283527119\n",
      " \n",
      "Ridge train_score 0.7149668115944141 {'alpha': 0.6308039922439517, 'solver': 'cholesky'}\n",
      "Ridge test_score 0.6806657667023426\n",
      " \n",
      "SGDRegressor train_score -105.56054383824387 {'alpha': 2.2350975219089144, 'loss': 'epsilon_insensitive', 'penalty': 'l1'}\n",
      "SGDRegressor test_score -6.479864222049672\n",
      " \n",
      "ElasticNet train_score 0.696221827314573 {'alpha': 0.3080040489401288, 'normalize': False}\n",
      "ElasticNet test_score 0.6729918652533172\n",
      " \n",
      "Lars train_score 0.713531360176481 {'normalize': False}\n",
      "Lars test_score 0.677688409188062\n",
      " \n",
      "Lasso train_score 0.6898176350386466 {'alpha': 0.6918621554775064, 'normalize': False}\n",
      "Lasso test_score 0.6645900232232416\n",
      " \n",
      "OrthogonalMatchingPursuit train_score 0.5351874861120729 {'normalize': True}\n",
      "OrthogonalMatchingPursuit test_score 0.492934011423361\n",
      " \n"
     ]
    }
   ],
   "source": [
    "for r in train:\n",
    "    print(r[0],'train_score', r[1].best_score_, r[1].best_params_)\n",
    "    print(r[0],'test_score', r2_score(y_test, r[1].predict(X_test)))\n",
    "    print(' ')"
   ]
  },
  {
   "cell_type": "code",
   "execution_count": null,
   "id": "roman-rachel",
   "metadata": {},
   "outputs": [],
   "source": []
  },
  {
   "cell_type": "code",
   "execution_count": null,
   "id": "cognitive-glasgow",
   "metadata": {},
   "outputs": [],
   "source": []
  },
  {
   "cell_type": "code",
   "execution_count": null,
   "id": "patent-priority",
   "metadata": {},
   "outputs": [],
   "source": []
  },
  {
   "cell_type": "code",
   "execution_count": null,
   "id": "social-ghost",
   "metadata": {},
   "outputs": [],
   "source": []
  }
 ],
 "metadata": {
  "kernelspec": {
   "display_name": "Python 3",
   "language": "python",
   "name": "python3"
  },
  "language_info": {
   "codemirror_mode": {
    "name": "ipython",
    "version": 3
   },
   "file_extension": ".py",
   "mimetype": "text/x-python",
   "name": "python",
   "nbconvert_exporter": "python",
   "pygments_lexer": "ipython3",
   "version": "3.8.8"
  }
 },
 "nbformat": 4,
 "nbformat_minor": 5
}
